{
 "cells": [
  {
   "cell_type": "code",
   "execution_count": 8,
   "id": "0a638666-5b39-4e59-be28-e2b168b4dea7",
   "metadata": {},
   "outputs": [],
   "source": [
    "import time\n",
    "import os\n",
    "import pickle\n",
    "\n",
    "import albumentations as A\n",
    "import numpy as np\n",
    "import pandas as pd\n",
    "from pycocotools.coco import COCO\n",
    "from tqdm import tqdm"
   ]
  },
  {
   "cell_type": "code",
   "execution_count": 2,
   "id": "78b22d82-9396-4dcf-bd87-19ca7fd83c4f",
   "metadata": {},
   "outputs": [],
   "source": [
    "pkl_file_paths = ['./upernet_swin_albu_mb_gd_40k_logit.pkl', './ocrnet_hr48_40k_logit.pkl', './deeplabv3+_se_resnext101_32x4d_ALL_40_logit.pkl']\n",
    "\n",
    "out_csv_file_path = \"./submission/swin_hrnet_deep3.csv\"\n",
    "for_pseudo = False  # True 이면 pseudo 용 csv 출력 (512 x 512)\n",
    "\n",
    "out_pkl_file_path = \"./saved/swin_hrnet_deep3.pkl\"  "
   ]
  },
  {
   "cell_type": "code",
   "execution_count": 3,
   "id": "cd1efdc2-a248-4341-9295-2e5a676c6bad",
   "metadata": {},
   "outputs": [],
   "source": [
    "def load_pkl(pkl_file_path):\n",
    "    with open(pkl_file_path, 'rb') as pkl_file:\n",
    "        logit_uint8 = pickle.load(pkl_file)\n",
    "        \n",
    "    logit_float32 = logit_uint8.astype(dtype=np.float32) / 255.\n",
    "    \n",
    "    return logit_float32"
   ]
  },
  {
   "cell_type": "code",
   "execution_count": 4,
   "id": "2d34fde3-ed51-436f-856f-1a30ecd53474",
   "metadata": {},
   "outputs": [
    {
     "name": "stdout",
     "output_type": "stream",
     "text": [
      "(819, 11, 512, 512)\n",
      "(819, 11, 512, 512)\n",
      "(819, 11, 512, 512)\n"
     ]
    }
   ],
   "source": [
    "logit_list = list()\n",
    "for pkl_file_path in pkl_file_paths:\n",
    "    logit = load_pkl(pkl_file_path)\n",
    "    print(logit.shape)\n",
    "    logit_list.append(logit)\n",
    "    \n",
    "avg_logit = np.average(np.array(logit_list), axis=0)\n",
    "\n",
    "with open(out_pkl_file_path, 'wb') as pkl_file:\n",
    "    logit_to_pickle = np.clip(avg_logit * 255., 0., 255.)  # 혹시 몰라서 clamping\n",
    "    logit_to_pickle = logit_to_pickle.astype(np.uint8)\n",
    "    pickle.dump(logit_to_pickle, pkl_file, protocol=4)\n"
   ]
  },
  {
   "cell_type": "code",
   "execution_count": 5,
   "id": "b4c42301-4258-4df4-b56c-4bd33f31c35c",
   "metadata": {},
   "outputs": [],
   "source": [
    "soft_pred = avg_logit.argmax(axis=1)"
   ]
  },
  {
   "cell_type": "code",
   "execution_count": 9,
   "id": "62d50a20-fb83-4f30-88cb-cdaa6541f9f0",
   "metadata": {},
   "outputs": [
    {
     "name": "stdout",
     "output_type": "stream",
     "text": [
      "loading annotations into memory...\n",
      "Done (t=0.01s)\n",
      "creating index...\n",
      "index created!\n"
     ]
    }
   ],
   "source": [
    "resize_transform = A.Compose([A.Resize(256, 256, 0)])  # cv2.INTER_NEAREST\n",
    "\n",
    "prediction_strings = list()\n",
    "file_names = list()\n",
    "coco = COCO(\"/opt/ml/segmentation/input/data/test.json\")\n",
    "\n",
    "for i, out in enumerate(list(soft_pred)):\n",
    "    image_info = coco.loadImgs(coco.getImgIds(imgIds=i))[0]\n",
    "    file_names.append(image_info['file_name'])\n",
    "        \n",
    "    if for_pseudo:\n",
    "        out_fit_array = out\n",
    "    else:\n",
    "        out_fit_array = resize_transform(image=out)['image']\n",
    "    \n",
    "    prediction_string = ' '.join([str(pixel_pred) for pixel_pred in out_fit_array.flatten().tolist()])\n",
    "    prediction_strings.append(prediction_string)\n",
    "\n",
    "submission = pd.DataFrame()\n",
    "submission['image_id'] = file_names\n",
    "submission['PredictionString'] = prediction_strings\n",
    "submission.to_csv(out_csv_file_path, index=False)"
   ]
  },
  {
   "cell_type": "code",
   "execution_count": null,
   "id": "97608ecc-3b45-4b83-b8da-96cc7167fd1d",
   "metadata": {},
   "outputs": [],
   "source": []
  }
 ],
 "metadata": {
  "kernelspec": {
   "display_name": "segmentation",
   "language": "python",
   "name": "segmentation"
  },
  "language_info": {
   "codemirror_mode": {
    "name": "ipython",
    "version": 3
   },
   "file_extension": ".py",
   "mimetype": "text/x-python",
   "name": "python",
   "nbconvert_exporter": "python",
   "pygments_lexer": "ipython3",
   "version": "3.7.11"
  }
 },
 "nbformat": 4,
 "nbformat_minor": 5
}
