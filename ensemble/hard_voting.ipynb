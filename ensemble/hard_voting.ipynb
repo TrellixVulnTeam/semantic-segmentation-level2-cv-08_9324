{
 "cells": [
  {
   "cell_type": "code",
   "execution_count": 1,
   "id": "0a638666-5b39-4e59-be28-e2b168b4dea7",
   "metadata": {},
   "outputs": [],
   "source": [
    "import time\n",
    "import os\n",
    "\n",
    "import numpy as np\n",
    "import pandas as pd\n",
    "from tqdm import tqdm"
   ]
  },
  {
   "cell_type": "code",
   "execution_count": 2,
   "id": "78b22d82-9396-4dcf-bd87-19ca7fd83c4f",
   "metadata": {},
   "outputs": [],
   "source": [
    "csv_file_paths = [\n",
    "    './hard_hhhss_783.csv',\n",
    "    './hard_sssod_ws_781.csv',\n",
    "    './hard_sss_777.csv',\n",
    "    './ocr_hr_jh_705.csv',\n",
    "    './deep_bs_700.csv'\n",
    "    ]"
   ]
  },
  {
   "cell_type": "code",
   "execution_count": 3,
   "id": "d141024b-9d01-4290-bb90-74e464c0ce57",
   "metadata": {},
   "outputs": [],
   "source": [
    "def csv_to_one_hots(csv_file_path):\n",
    "    csv_df = pd.read_csv(csv_file_path)\n",
    "    pred_strs = csv_df[\"PredictionString\"]\n",
    "    \n",
    "    image_pred_one_hots_list = list()\n",
    "    for pred_str in pred_strs:\n",
    "        pred_ints = [int(pred) for pred in pred_str.split(' ')]\n",
    "        pred_one_hots = [np.eye(11)[pred_int] for pred_int in pred_ints]\n",
    "        image_pred_one_hots_list.append(pred_one_hots)\n",
    "        \n",
    "    return image_pred_one_hots_list"
   ]
  },
  {
   "cell_type": "code",
   "execution_count": 4,
   "id": "c991ce75-e522-4a58-a983-acbff1c9df09",
   "metadata": {},
   "outputs": [
    {
     "name": "stdout",
     "output_type": "stream",
     "text": [
      "Loading ./hard_hhhss_783.csv ...\n"
     ]
    },
    {
     "name": "stderr",
     "output_type": "stream",
     "text": [
      "100%|██████████| 819/819 [01:53<00:00,  7.31it/s]\n"
     ]
    },
    {
     "name": "stdout",
     "output_type": "stream",
     "text": [
      "Loading ./hard_sssod_ws_781.csv ...\n"
     ]
    },
    {
     "name": "stderr",
     "output_type": "stream",
     "text": [
      "100%|██████████| 819/819 [01:51<00:00,  7.52it/s]\n"
     ]
    },
    {
     "name": "stdout",
     "output_type": "stream",
     "text": [
      "Loading ./hard_sss_777.csv ...\n"
     ]
    },
    {
     "name": "stderr",
     "output_type": "stream",
     "text": [
      "100%|██████████| 819/819 [01:51<00:00,  7.50it/s]\n"
     ]
    },
    {
     "name": "stdout",
     "output_type": "stream",
     "text": [
      "Loading ./ocr_hr_jh_705.csv ...\n"
     ]
    },
    {
     "name": "stderr",
     "output_type": "stream",
     "text": [
      "100%|██████████| 819/819 [01:52<00:00,  7.52it/s]\n"
     ]
    },
    {
     "name": "stdout",
     "output_type": "stream",
     "text": [
      "Loading ./deep_bs_700.csv ...\n"
     ]
    },
    {
     "name": "stderr",
     "output_type": "stream",
     "text": [
      "100%|██████████| 819/819 [01:51<00:00,  7.53it/s]\n"
     ]
    },
    {
     "name": "stdout",
     "output_type": "stream",
     "text": [
      "(5, 819, 65536, 11)\n",
      "uint8\n"
     ]
    }
   ],
   "source": [
    "images_pred_arrays = list()\n",
    "for csv_file_path in csv_file_paths:\n",
    "    print(f'Loading {csv_file_path} ...') \n",
    "    csv_df = pd.read_csv(csv_file_path)\n",
    "    pred_strs = csv_df[\"PredictionString\"]\n",
    "    \n",
    "    image_pred_one_hots_list = list()\n",
    "    for pred_str in tqdm(pred_strs):\n",
    "        pred_ints = [int(pred) for pred in pred_str.split(' ')]\n",
    "        pred_one_hots = [np.eye(11, dtype=np.uint8)[pred_int] for pred_int in pred_ints]\n",
    "        image_pred_one_hots_list.append(pred_one_hots)\n",
    "    \n",
    "    images_pred_arrays.append(np.array(image_pred_one_hots_list))\n",
    "    \n",
    "images_pred_4d_array = np.array(images_pred_arrays)\n",
    "\n",
    "del images_pred_arrays\n",
    "    \n",
    "print(images_pred_4d_array.shape)\n",
    "print(images_pred_4d_array.dtype)\n"
   ]
  },
  {
   "cell_type": "code",
   "execution_count": 5,
   "id": "9746d38f-f816-4eba-92a7-c2c5025b6a47",
   "metadata": {},
   "outputs": [
    {
     "name": "stdout",
     "output_type": "stream",
     "text": [
      "(819, 65536, 11)\n"
     ]
    }
   ],
   "source": [
    "count_pred_array = np.sum(images_pred_4d_array, axis=0)\n",
    "print(count_pred_array.shape)"
   ]
  },
  {
   "cell_type": "code",
   "execution_count": 6,
   "id": "b4ee73a4-1a87-4de6-b0a8-1c9d8cd44807",
   "metadata": {},
   "outputs": [
    {
     "name": "stdout",
     "output_type": "stream",
     "text": [
      "(819, 65536)\n"
     ]
    }
   ],
   "source": [
    "final_pred_array = np.argmax(count_pred_array, axis=2)\n",
    "print(final_pred_array.shape)"
   ]
  },
  {
   "cell_type": "code",
   "execution_count": 7,
   "id": "62d50a20-fb83-4f30-88cb-cdaa6541f9f0",
   "metadata": {},
   "outputs": [],
   "source": [
    "submission_df = pd.DataFrame()\n",
    "\n",
    "file_names = pd.read_csv(csv_file_paths[0], index_col=None)['image_id']\n",
    "\n",
    "for i_img in range(len(file_names)):\n",
    "    pred_str = ' '.join([str(pred_int) for pred_int in final_pred_array[i_img].tolist()])\n",
    "    submission_df = submission_df.append({\"image_id\": file_names[i_img], \"PredictionString\": pred_str}, ignore_index=True)\n",
    "                          \n",
    "submission_df.to_csv(\"./hard_voting_ensemble_hhhod.csv\", index=False)"
   ]
  }
 ],
 "metadata": {
  "kernelspec": {
   "display_name": "segmentation",
   "language": "python",
   "name": "segmentation"
  },
  "language_info": {
   "codemirror_mode": {
    "name": "ipython",
    "version": 3
   },
   "file_extension": ".py",
   "mimetype": "text/x-python",
   "name": "python",
   "nbconvert_exporter": "python",
   "pygments_lexer": "ipython3",
   "version": "3.7.11"
  }
 },
 "nbformat": 4,
 "nbformat_minor": 5
}
